{
 "cells": [
  {
   "cell_type": "code",
   "execution_count": 1,
   "metadata": {},
   "outputs": [
    {
     "name": "stderr",
     "output_type": "stream",
     "text": [
      "/home/matthias/.local/lib/python3.10/site-packages/matplotlib/projections/__init__.py:63: UserWarning: Unable to import Axes3D. This may be due to multiple versions of Matplotlib being installed (e.g. as a system package and as a pip package). As a result, the 3D projection is not available.\n",
      "  warnings.warn(\"Unable to import Axes3D. This may be due to multiple versions of \"\n"
     ]
    }
   ],
   "source": [
    "import numpy as np\n",
    "import scipy.io\n",
    "import matplotlib.pyplot as plt\n",
    "\n",
    "from control.matlab import tf, step, lsim\n",
    "\n",
    "import utils\n",
    "import dbm_math\n",
    "\n",
    "%matplotlib inline"
   ]
  },
  {
   "cell_type": "code",
   "execution_count": 14,
   "metadata": {},
   "outputs": [
    {
     "data": {
      "text/plain": [
       "dict_keys(['None', 'README', 't1', 't2', 'u1', 'u2', 'y1', 'y2'])"
      ]
     },
     "metadata": {},
     "output_type": "display_data"
    },
    {
     "data": {
      "text/plain": [
       "dict_keys(['README', 't1', 't2', 't3', 'u1', 'u2', 'u3', 'y1', 'y2', 'y3'])"
      ]
     },
     "metadata": {},
     "output_type": "display_data"
    }
   ],
   "source": [
    "data1 = utils.read_mat(\"/home/matthias/Downloads/ex3/ex3_system1_data.mat\")\n",
    "data2 = utils.read_mat(\"/home/matthias/Downloads/ex3/ex3_system2_data.mat\")\n",
    "\n",
    "display(data1.keys())\n",
    "display(data2.keys())"
   ]
  },
  {
   "cell_type": "code",
   "execution_count": 15,
   "metadata": {},
   "outputs": [],
   "source": [
    "# Constants\n",
    "NA = 4\n",
    "NB = 1\n",
    "\n",
    "HA_NUM = 3\n",
    "HA_FUN = lambda x,p: x**p"
   ]
  },
  {
   "cell_type": "code",
   "execution_count": 40,
   "metadata": {},
   "outputs": [],
   "source": [
    "def hammerstein_s(na,nb,y,u,k,func,ha_num):\n",
    "    sy = np.zeros((1,na))\n",
    "    su = np.zeros((1,nb+1))\n",
    "\n",
    "    for i in range(k + 1):\n",
    "        index_a: int = k - i - 1\n",
    "        index_b: int = k - i\n",
    "\n",
    "        if index_a >= 0:\n",
    "            try:\n",
    "                sy[index_a] = float(y[i])\n",
    "            except Exception:\n",
    "                pass\n",
    "        if index_b >= 0:\n",
    "            try:\n",
    "                su[index_b] = float(u[i])\n",
    "            except Exception as e:\n",
    "                pass\n",
    "    \n",
    "    s = np.append(sy,su)\n",
    "\n",
    "    for i in range(1,ha_num):\n",
    "        su_p = [func(e,i) for e in su]\n",
    "        s = np.append(s,su_p)\n",
    "\n",
    "    return s\n"
   ]
  },
  {
   "cell_type": "code",
   "execution_count": 41,
   "metadata": {},
   "outputs": [],
   "source": [
    "def rec_hammerstein(\n",
    "    n_a: int,\n",
    "    n_b: int,\n",
    "    k: int,\n",
    "    y: np.array,\n",
    "    u: np.array,\n",
    "    p_hat_k_1: np.array = None,\n",
    "    P_k_1: np.array = None,\n",
    "    alpha: float = 10e6,\n",
    ") -> tuple[np.array, np.array]:\n",
    "    \"\"\"Recursive least squares algorithm.\n",
    "    p_hat_k_1 and P_k_1 are optional parameters.\n",
    "    If they are not provided, they are recursivly calculated.\n",
    "\n",
    "    Args:\n",
    "        n_a (int): Order of the denominator\n",
    "        n_b (int): Order of the numerator\n",
    "        k (int): Current index\n",
    "        y (np.array): Output vector\n",
    "        u (np.array): Input vector\n",
    "        p_hat_k_1 (np.array, Optional): Parameter vector\n",
    "        P_k_1 (np.array, Optional): Covariance matrix\n",
    "\n",
    "\n",
    "    Returns:\n",
    "        p_k (np.array): Parameter vector\n",
    "        P_k (np.array): Covariance matrix\n",
    "    \"\"\"\n",
    "    if k < 0:\n",
    "        p_init = np.zeros(n_a + (n_b + 1)*HA_NUM).reshape(-1, 1)\n",
    "        P_init = np.eye(n_a + (n_b + 1)*HA_NUM) * alpha\n",
    "        return p_init, P_init\n",
    "\n",
    "    if P_k_1 is None or p_hat_k_1 is None:\n",
    "        p_hat_k_1, P_k_1 = rec_hammerstein(n_a, n_b, k - 1, y, u)\n",
    "\n",
    "    s_k = hammerstein_s(n_a, n_b, y, u, k, HA_FUN,HA_NUM)\n",
    "    k_k = (np.dot(P_k_1, s_k)) / (1 + np.dot(s_k.T, np.dot(P_k_1, s_k)))\n",
    "    P_K = P_k_1 - np.dot(k_k, np.dot(s_k.T, P_k_1))\n",
    "    p_hat_k = p_hat_k_1 + k_k * (y[k] - np.dot(s_k.T, p_hat_k_1))\n",
    "\n",
    "    return p_hat_k, P_K"
   ]
  },
  {
   "cell_type": "code",
   "execution_count": null,
   "metadata": {},
   "outputs": [],
   "source": []
  },
  {
   "cell_type": "code",
   "execution_count": 42,
   "metadata": {},
   "outputs": [
    {
     "name": "stdout",
     "output_type": "stream",
     "text": [
      "Estimated Parameters:  [nan nan nan nan nan nan nan nan nan nan nan nan nan nan nan nan nan nan\n",
      " nan nan nan nan nan nan nan nan nan nan nan nan nan nan nan nan nan nan\n",
      " nan nan nan nan nan nan nan nan nan nan nan nan nan nan nan nan nan nan\n",
      " nan nan nan nan nan nan nan nan nan nan nan nan nan nan nan nan nan nan\n",
      " nan nan nan nan nan nan nan nan nan nan nan nan nan nan nan nan nan nan\n",
      " nan nan nan nan nan nan nan nan nan nan]\n"
     ]
    }
   ],
   "source": [
    "t = data1.t1\n",
    "y = data1.y1\n",
    "u = data1.u1\n",
    "Ts = t[1] - t[0]\n",
    "\n",
    "pk_list = []\n",
    "Pk_list = []\n",
    "pk, Pk = rec_hammerstein(NA, NB, -1, y, u)\n",
    "\n",
    "for i in range(len(t)):\n",
    "    pk, Pk = rec_hammerstein(NA, NB, i, y, u, pk, Pk)\n",
    "    pk_list.append(pk)\n",
    "    Pk_list.append(Pk)\n",
    "\n",
    "    if i > 1:\n",
    "        dpest = pk_list[-1] - pk_list[-2]\n",
    "        dnorm = np.linalg.norm(dpest)\n",
    "\n",
    "\n",
    "p_hat = pk_list[-1].flatten()\n",
    "print(\"Estimated Parameters: \", p_hat)\n",
    "Gest = tf(p_hat[NA:], [1] + [-p_hat[i] for i in range(NB)], Ts)"
   ]
  },
  {
   "cell_type": "markdown",
   "metadata": {},
   "source": []
  },
  {
   "cell_type": "markdown",
   "metadata": {},
   "source": []
  }
 ],
 "metadata": {
  "kernelspec": {
   "display_name": "Python 3",
   "language": "python",
   "name": "python3"
  },
  "language_info": {
   "codemirror_mode": {
    "name": "ipython",
    "version": 3
   },
   "file_extension": ".py",
   "mimetype": "text/x-python",
   "name": "python",
   "nbconvert_exporter": "python",
   "pygments_lexer": "ipython3",
   "version": "3.10.12"
  }
 },
 "nbformat": 4,
 "nbformat_minor": 2
}
