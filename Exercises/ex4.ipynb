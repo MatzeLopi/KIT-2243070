{
 "cells": [
  {
   "cell_type": "markdown",
   "metadata": {},
   "source": [
    "# Exercise 4\n",
    "Task:\n",
    "- Implement DMDc as shown in Example 3.6\n",
    "- Test script on data provided in handout 4\n",
    "- Modify number of singular values and analyze effect on approximation quality\n",
    "\n",
    "\n",
    "\n"
   ]
  },
  {
   "cell_type": "code",
   "execution_count": 1,
   "metadata": {},
   "outputs": [
    {
     "name": "stderr",
     "output_type": "stream",
     "text": [
      "/home/matthias/.local/lib/python3.10/site-packages/matplotlib/projections/__init__.py:63: UserWarning: Unable to import Axes3D. This may be due to multiple versions of Matplotlib being installed (e.g. as a system package and as a pip package). As a result, the 3D projection is not available.\n",
      "  warnings.warn(\"Unable to import Axes3D. This may be due to multiple versions of \"\n"
     ]
    }
   ],
   "source": [
    "import numpy as np\n",
    "import matplotlib.pyplot as plt\n",
    "\n",
    "from utils import utils\n",
    "\n",
    "%matplotlib inline"
   ]
  },
  {
   "cell_type": "code",
   "execution_count": null,
   "metadata": {},
   "outputs": [],
   "source": [
    "def dynamic_mode_decomposition(x, x_prime,r):\n",
    "    \"\"\"Implementation of the dynamic mode decomposition algorithm.\n",
    "\n",
    "    Args:\n",
    "        x (numpy.ndarray): The data matrix.\n",
    "        x_prime (numpy.ndarray): The data matrix shifted by one timestep.\n",
    "        r (int): The rank of the reduced order model.\n",
    "\n",
    "    Returns:\n",
    "        numpy.ndarray: The DMD modes.\n",
    "        numpy.ndarray: The eigenvalues.\n",
    "    \"\"\"\n",
    "    # 1. compute SVD of x\n",
    "    u, s, v_h = np.linalg.svd(x, full_matrices=False)\n",
    "    \n",
    "    # 2. truncate the SVD to rank r\n",
    "    u_tilde = u[:, :r]\n",
    "    s_tilde = np.diag(s[:r])\n",
    "    v_h_tilde = v_h[:r, :]\n",
    "    \n",
    "    # 3. compute A_tilde -> reduced order operator\n",
    "    u_h_tilde = u_tilde.conj().T\n",
    "    v_sin_v = np.linalg.solve(s_tilde.conj().T,v_h_tilde).conj().T\n",
    "    a_tilde = u_h_tilde @ x_prime @ v_sin_v\n",
    "\n",
    "    # 4. compute eigenvalues and eigenvectors of A_tilde\n",
    "    eigenvalues, eigenvectors = np.linalg.eig(a_tilde)\n",
    "\n",
    "    # 5. compute DMD modes\n",
    "    dmd_modes = x_prime @ v_sin_v @ eigenvectors\n",
    "\n",
    "    return dmd_modes, eigenvalues\n",
    "dmd = dynamic_mode_decomposition\n"
   ]
  },
  {
   "cell_type": "code",
   "execution_count": 2,
   "metadata": {},
   "outputs": [],
   "source": [
    "def dynamic_mode_decomposition_control(x, x_prime, u, r):\n",
    "    \"\"\" Implementation of dynamic mode decomposition with control.\n",
    "\n",
    "    Args:\n",
    "        x (numpy.ndarray): The data matrix.\n",
    "        x_prime (numpy.ndarray): The data matrix shifted by one timestep.\n",
    "        u (numpy.ndarray): The control matrix.\n",
    "        r (int): The rank of the reduced order model.\n",
    "\n",
    "    Returns:\n",
    "        numpy.ndarray: The DMD modes.\n",
    "        numpy.ndarray: The eigenvalues.\n",
    "        numpy.ndarray: The reduced order input matrix.\n",
    "    \"\"\"\n",
    "    omega = np.concatenate((x, u), axis=0)\n",
    "    \n",
    "    u_, s, v_h = np.linalg.svd(omega, full_matrices=False)\n",
    "\n",
    "    u_tilde = u_[:, :r]\n",
    "    s_tilde = np.diag(s[:r])\n",
    "    v_h_tilde = v_h[:r, :]\n",
    "\n",
    "    omega_pinv_tilde = np.linalg.solve(s_tilde.conj().T, v_h_tilde).conj().T\n",
    "    ab_tilde = x_prime @ omega_pinv_tilde @ u_tilde\n",
    "\n",
    "    a_tilde = ab_tilde[:, :x.shape[0]]\n",
    "    b_tilde = ab_tilde[:, x.shape[0]:]\n",
    "\n",
    "    eigenvalues, eigenvectors = np.linalg.eig(a_tilde)\n",
    "\n",
    "    modes = x_prime @ omega_pinv_tilde @ u_tilde @ eigenvectors\n",
    "\n",
    "    return modes, eigenvalues, b_tilde\n",
    "\n",
    "    \n",
    "\n",
    "\n",
    "dmdc = dynamic_mode_decomposition_control"
   ]
  }
 ],
 "metadata": {
  "kernelspec": {
   "display_name": "Python 3",
   "language": "python",
   "name": "python3"
  },
  "language_info": {
   "codemirror_mode": {
    "name": "ipython",
    "version": 3
   },
   "file_extension": ".py",
   "mimetype": "text/x-python",
   "name": "python",
   "nbconvert_exporter": "python",
   "pygments_lexer": "ipython3",
   "version": "3.10.12"
  }
 },
 "nbformat": 4,
 "nbformat_minor": 2
}
