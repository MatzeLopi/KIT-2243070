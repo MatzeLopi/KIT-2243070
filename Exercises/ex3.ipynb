{
 "cells": [
  {
   "cell_type": "code",
   "execution_count": null,
   "metadata": {},
   "outputs": [],
   "source": [
    "import numpy as np\n",
    "import matplotlib.pyplot as plt\n",
    "\n",
    "from utils import utils\n",
    "\n",
    "%matplotlib inline"
   ]
  },
  {
   "cell_type": "code",
   "execution_count": 53,
   "metadata": {},
   "outputs": [
    {
     "data": {
      "text/plain": [
       "dict_keys(['None', 'README', 't1', 't2', 'u1', 'u2', 'y1', 'y2'])"
      ]
     },
     "metadata": {},
     "output_type": "display_data"
    },
    {
     "data": {
      "text/plain": [
       "dict_keys(['README', 't1', 't2', 't3', 'u1', 'u2', 'u3', 'y1', 'y2', 'y3'])"
      ]
     },
     "metadata": {},
     "output_type": "display_data"
    }
   ],
   "source": [
    "data1 = utils.read_mat(\"/home/matthias/Downloads/ex3/ex3_system1_data.mat\")\n",
    "data2 = utils.read_mat(\"/home/matthias/Downloads/ex3/ex3_system2_data.mat\")\n",
    "\n",
    "display(data1.keys())\n",
    "display(data2.keys())"
   ]
  },
  {
   "cell_type": "code",
   "execution_count": 193,
   "metadata": {},
   "outputs": [],
   "source": [
    "# Constant3\n",
    "NA = 4\n",
    "NB = 1\n",
    "\n",
    "HA_NUM = 10\n",
    "HA_FUN = lambda x,p: x ** p + x ** (p-1) + x ** (p-2)"
   ]
  },
  {
   "cell_type": "code",
   "execution_count": 194,
   "metadata": {},
   "outputs": [],
   "source": [
    "def hammerstein_s(na,nb,y,u,k,func,ha_num):\n",
    "    sy = np.zeros((1,na))\n",
    "    su = np.zeros((1,nb+1))\n",
    "\n",
    "    for i in range(k + 1):\n",
    "        index_a: int = k - i - 1\n",
    "        index_b: int = k - i\n",
    "\n",
    "        if index_a >= 0:\n",
    "            try:\n",
    "                sy[index_a] = float(y[i])\n",
    "            except Exception:\n",
    "                pass\n",
    "        if index_b >= 0:\n",
    "            try:\n",
    "                su[index_b] = float(u[i])\n",
    "            except Exception as e:\n",
    "                pass\n",
    "    \n",
    "    s = np.append(sy,su)\n",
    "\n",
    "    for i in range(2,ha_num+1):\n",
    "        su_p = [func(e,i) for e in su]\n",
    "        s = np.append(s,su_p)\n",
    "\n",
    "    return s\n"
   ]
  },
  {
   "cell_type": "code",
   "execution_count": 195,
   "metadata": {},
   "outputs": [],
   "source": [
    "def rec_hammerstein(\n",
    "    n_a: int,\n",
    "    n_b: int,\n",
    "    k: int,\n",
    "    y: np.array,\n",
    "    u: np.array,\n",
    "    p_hat_k_1: np.array = None,\n",
    "    P_k_1: np.array = None,\n",
    "    alpha: float = 10e6,\n",
    ") -> tuple[np.array, np.array]:\n",
    "    \"\"\"Recursive least squares algorithm.\n",
    "    p_hat_k_1 and P_k_1 are optional parameters.\n",
    "    If they are not provided, they are recursivly calculated.\n",
    "\n",
    "    Args:\n",
    "        n_a (int): Order of the denominator\n",
    "        n_b (int): Order of the numerator\n",
    "        k (int): Current index\n",
    "        y (np.array): Output vector\n",
    "        u (np.array): Input vector\n",
    "        p_hat_k_1 (np.array, Optional): Parameter vector\n",
    "        P_k_1 (np.array, Optional): Covariance matrix\n",
    "        alpha (float, Optional): Forgetting factor\n",
    "\n",
    "\n",
    "    Returns:\n",
    "        p_k (np.array): Parameter vector\n",
    "        P_k (np.array): Covariance matrix\n",
    "    \"\"\"\n",
    "    if k < 0:\n",
    "        p_init = np.zeros(n_a + (n_b + 1)*HA_NUM).reshape(-1, 1)\n",
    "        P_init = np.eye(n_a + (n_b + 1)*HA_NUM) * alpha\n",
    "        return p_init, P_init\n",
    "\n",
    "    if P_k_1 is None or p_hat_k_1 is None:\n",
    "        p_hat_k_1, P_k_1 = rec_hammerstein(n_a, n_b, k - 1, y, u)\n",
    "\n",
    "    s_k = hammerstein_s(n_a, n_b, y, u, k, HA_FUN,HA_NUM).reshape(-1, 1)\n",
    "    k_k = (np.dot(P_k_1, s_k)) / (1 + np.dot(s_k.T, np.dot(P_k_1, s_k)))\n",
    "    P_K = P_k_1 - np.dot(k_k, np.dot(s_k.T, P_k_1))\n",
    "    p_hat_k = p_hat_k_1 + k_k * (y[k] - np.dot(s_k.T, p_hat_k_1))\n",
    "\n",
    "    return p_hat_k, P_K"
   ]
  },
  {
   "cell_type": "code",
   "execution_count": 196,
   "metadata": {},
   "outputs": [],
   "source": [
    "def ex3_recursive_lsq_hammerstein_sim(t, u, y0, na,nb,ha_num,ha_fun, pval):\n",
    "    \"\"\"\"\"\"\n",
    "    y = np.zeros(len(u))\n",
    "    y[0] = y0\n",
    "\n",
    "    for k in range(1,len(y)):\n",
    "        sy = np.zeros(na)\n",
    "        su = np.zeros(nb + 1)\n",
    "\n",
    "        iy = [i for i in np.arange(k - 1, k - na - 1, -1) if i  >= 0]\n",
    "        iu = [i for i in np.arange(k, k - nb - 1, -1) if i >= 0]\n",
    "\n",
    "        if len(iy) > 0:\n",
    "            sy[:len(iy)] = [y[i] for i in iy]\n",
    "        if len(iu) > 0:\n",
    "            su[:len(iu)] = [u[i] for i in iu]\n",
    "            for j in range(2, ha_num + 1):\n",
    "                sh = np.zeros(nb + 1)\n",
    "                sh[:len(iu)] = [ha_fun(u[i], j) for i in iu]\n",
    "                su = np.append(su, sh)\n",
    "\n",
    "        S = np.array(np.append(sy, su)).reshape(-1, 1)   \n",
    "\n",
    "        y[k] = np.dot(pval, S)\n",
    "\n",
    "    return y\n"
   ]
  },
  {
   "cell_type": "code",
   "execution_count": 197,
   "metadata": {},
   "outputs": [
    {
     "name": "stdout",
     "output_type": "stream",
     "text": [
      "Estimated Parameters:  [ 0.2430957   0.2430957   0.24309573  0.24309573 -0.07192163 -0.07192163\n",
      "  0.09084153  0.09084153 -0.11833322 -0.11833321]\n"
     ]
    }
   ],
   "source": [
    "t = data2.t1\n",
    "y = data2.y1\n",
    "u = data2.u1\n",
    "Ts = t[1] - t[0]\n",
    "\n",
    "pk_list = []\n",
    "Pk_list = []\n",
    "pk, Pk = rec_hammerstein(NA, NB, -1, y, u)\n",
    "\n",
    "for i in range(len(t)):\n",
    "    pk, Pk = rec_hammerstein(NA, NB, i, y, u, pk, Pk)\n",
    "    pk_list.append(pk)\n",
    "    Pk_list.append(Pk)\n",
    "\n",
    "    if i > 1:\n",
    "        dpest = pk_list[-1] - pk_list[-2]\n",
    "        dnorm = np.linalg.norm(dpest)\n",
    "\n",
    "\n",
    "p_hat = pk_list[-1].flatten()\n",
    "print(\"Estimated Parameters: \", p_hat)\n",
    "\n",
    "y_pred = ex3_recursive_lsq_hammerstein_sim(t, u, y[0], NA, NB, HA_NUM, HA_FUN, p_hat)"
   ]
  },
  {
   "cell_type": "code",
   "execution_count": 198,
   "metadata": {},
   "outputs": [
    {
     "data": {
      "image/png": "[encoded data removed]",
      "text/plain": [
       "<Figure size 1000x500 with 1 Axes>"
      ]
     },
     "metadata": {},
     "output_type": "display_data"
    }
   ],
   "source": [
    "plt.figure(figsize=(10, 5))\n",
    "plt.plot(t,y, label=\"System Response\")\n",
    "plt.xlabel(\"Time [s]\")\n",
    "plt.plot(t, y_pred,label=\"Model Response\")\n",
    "plt.legend()\n",
    "plt.show()\n"
   ]
  },
  {
   "cell_type": "code",
   "execution_count": null,
   "metadata": {},
   "outputs": [],
   "source": []
  },
  {
   "cell_type": "code",
   "execution_count": null,
   "metadata": {},
   "outputs": [],
   "source": []
  }
 ],
 "metadata": {
  "kernelspec": {
   "display_name": "Python 3",
   "language": "python",
   "name": "python3"
  },
  "language_info": {
   "codemirror_mode": {
    "name": "ipython",
    "version": 3
   },
   "file_extension": ".py",
   "mimetype": "text/x-python",
   "name": "python",
   "nbconvert_exporter": "python",
   "pygments_lexer": "ipython3",
   "version": "3.10.12"
  }
 },
 "nbformat": 4,
 "nbformat_minor": 2
}
